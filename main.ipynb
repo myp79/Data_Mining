{
 "cells": [
  {
   "cell_type": "code",
   "execution_count": 2,
   "metadata": {},
   "outputs": [],
   "source": [
    "# import some library for start\n",
    "# pandas, numpy, csv\n",
    "import numpy\n",
    "import pandas\n",
    "import csv"
   ]
  }
 ],
 "metadata": {
  "interpreter": {
   "hash": "0b6b485a403b22402a0358cfd6e16377cbf7292542125324c726aecc593f8dd1"
  },
  "kernelspec": {
   "display_name": "Python 3.9.6 64-bit",
   "language": "python",
   "name": "python3"
  },
  "language_info": {
   "codemirror_mode": {
    "name": "ipython",
    "version": 3
   },
   "file_extension": ".py",
   "mimetype": "text/x-python",
   "name": "python",
   "nbconvert_exporter": "python",
   "pygments_lexer": "ipython3",
   "version": "3.9.6"
  },
  "orig_nbformat": 4
 },
 "nbformat": 4,
 "nbformat_minor": 2
}
